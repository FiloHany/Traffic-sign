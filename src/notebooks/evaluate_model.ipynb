{
 "cells": [
  {
   "cell_type": "markdown",
   "id": "15559a1b",
   "metadata": {},
   "source": [
    "# Evaluating the Traffic Sign Classifier"
   ]
  },
  {
   "cell_type": "code",
   "execution_count": null,
   "id": "983d8b72",
   "metadata": {},
   "outputs": [],
   "source": [
    "# Ensure src/ is in Python path\n",
    "import sys\n",
    "import os\n",
    "sys.path.append(os.path.abspath(\"../src\"))"
   ]
  },
  {
   "cell_type": "code",
   "execution_count": null,
   "id": "80652489",
   "metadata": {},
   "outputs": [],
   "source": [
    "# Import project modules\n",
    "from evaluator.test_data_loader import TestDataLoader\n",
    "from evaluator.model_predictor import ModelPredictor\n",
    "from evaluator.testing_evaluator import ModelEvaluator\n",
    "import tensorflow as tf"
   ]
  },
  {
   "cell_type": "code",
   "execution_count": null,
   "id": "048075ce",
   "metadata": {},
   "outputs": [],
   "source": [
    "# Step 1: Load test data\n",
    "loader = TestDataLoader(\n",
    "    csv_path=\"../input/gtsrb-german-traffic-sign/Test.csv\",\n",
    "    img_base_path=\"../input/gtsrb-german-traffic-sign\"\n",
    "    )\n",
    "\n",
    "X_test, y_true = loader.load_test_data()"
   ]
  },
  {
   "cell_type": "code",
   "execution_count": null,
   "id": "5cf60fb0",
   "metadata": {},
   "outputs": [],
   "source": [
    "# Step 2: Load your trained model\n",
    "model = tf.keras.models.load_model('../traffic-sign-classifier.h5')"
   ]
  },
  {
   "cell_type": "code",
   "execution_count": null,
   "id": "9e68bfed",
   "metadata": {},
   "outputs": [],
   "source": [
    "# Step 3: Make predictions\n",
    "predictor = ModelPredictor(model)\n",
    "y_pred = predictor.predict_classes(X_test)"
   ]
  },
  {
   "cell_type": "code",
   "execution_count": null,
   "id": "cb50222b",
   "metadata": {},
   "outputs": [],
   "source": [
    "# Step 3: Evaluate results\n",
    "evaluator = ModelEvaluator()\n",
    "evaluator.evaluate(y_true, y_pred)"
   ]
  }
 ],
 "metadata": {
  "language_info": {
   "name": "python"
  }
 },
 "nbformat": 4,
 "nbformat_minor": 5
}
