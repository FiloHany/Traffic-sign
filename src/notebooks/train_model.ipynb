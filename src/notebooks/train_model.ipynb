{
 "cells": [
  {
   "cell_type": "markdown",
   "id": "2cded269",
   "metadata": {},
   "source": [
    "# Traffic Sign Classifier Training Notebook"
   ]
  },
  {
   "cell_type": "code",
   "execution_count": null,
   "id": "6a3bb40c",
   "metadata": {},
   "outputs": [],
   "source": [
    "# Ensure src/ is in Python path\n",
    "import sys\n",
    "import os\n",
    "sys.path.append(os.path.abspath(\"../src\"))"
   ]
  },
  {
   "cell_type": "code",
   "execution_count": null,
   "id": "d72602c8",
   "metadata": {},
   "outputs": [],
   "source": [
    "# Import project modules\n",
    "from data.dataset_downloader import DatasetDownloader\n",
    "from data.dataset_loader import DatasetLoader\n",
    "from preprocess.preprocessor import DataPreprocessor\n",
    "from model.traffic_sign_model import TrafficSignModel\n",
    "from model.trainer import ModelTrainer\n",
    "from utils.plot_utils import PerformancePlotter"
   ]
  },
  {
   "cell_type": "code",
   "execution_count": null,
   "id": "45c3c6a5",
   "metadata": {},
   "outputs": [],
   "source": [
    "# Step 1: Download dataset\n",
    "dataset_path = DatasetDownloader.download(\"meowmeowmeowmeowmeow/gtsrb-german-traffic-sign\")"
   ]
  },
  {
   "cell_type": "code",
   "execution_count": null,
   "id": "b3e96f51",
   "metadata": {},
   "outputs": [],
   "source": [
    "# Step 2: Load dataset\n",
    "loader = DatasetLoader(dataset_dir='/kaggle/input/gtsrb-german-traffic-sign')\n",
    "data, labels = loader.load_data()\n",
    "\n",
    "print(f\"Data shape: {data.shape}\")\n",
    "print(f\"Labels shape: {labels.shape}\")"
   ]
  },
  {
   "cell_type": "code",
   "execution_count": null,
   "id": "e6c904ac",
   "metadata": {},
   "outputs": [],
   "source": [
    "# Step 3: Preprocess data\n",
    "X_train, X_test, y_train, y_test = DataPreprocessor.preprocess(data, labels, num_classes=43)\n",
    "print(f\"Train shape: {X_train.shape}, Test shape: {X_test.shape}\")"
   ]
  },
  {
   "cell_type": "code",
   "execution_count": null,
   "id": "fab9fc8d",
   "metadata": {},
   "outputs": [],
   "source": [
    "# Step 4: Build model\n",
    "model = TrafficSignModel.build(input_shape=X_train.shape[1:], num_classes=43)\n",
    "model.summary()"
   ]
  },
  {
   "cell_type": "code",
   "execution_count": null,
   "id": "6c4cbd37",
   "metadata": {},
   "outputs": [],
   "source": [
    "# Step 5: Train model\n",
    "history = ModelTrainer.train(model, X_train, y_train, X_test, y_test, epochs=25, batch_size=128)"
   ]
  },
  {
   "cell_type": "code",
   "execution_count": null,
   "id": "f44b2566",
   "metadata": {},
   "outputs": [],
   "source": [
    "# Step 6: Plot performance\n",
    "PerformancePlotter.plot(history)"
   ]
  },
  {
   "cell_type": "code",
   "execution_count": null,
   "id": "fb3ca1d5",
   "metadata": {},
   "outputs": [],
   "source": [
    "# Step 7: Save trained model\n",
    "ModelTrainer.save_model(model, path=\"../traffic-sign-classifier.h5\")\n",
    "print(\"Model saved to traffic-sign-classifier.h5\")"
   ]
  }
 ],
 "metadata": {
  "kernelspec": {
   "display_name": "myenv",
   "language": "python",
   "name": "python3"
  },
  "language_info": {
   "name": "python",
   "version": "3.10.8"
  }
 },
 "nbformat": 4,
 "nbformat_minor": 5
}
